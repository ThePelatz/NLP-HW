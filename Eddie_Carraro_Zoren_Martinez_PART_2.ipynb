{
  "cells": [
    {
      "cell_type": "markdown",
      "metadata": {
        "id": "9zfwGPP61wl3"
      },
      "source": [
        "# NATURAL LANGUAGE PROCESSING PROJECT 2024/2025\n",
        "---\n",
        "## Named Entity Recognition – Zero-Shot Approaches\n",
        "\n",
        "**Zoren Martinez 2123873 (Computer Engineering, AI and Robotics)**\n",
        "<br>\n",
        "**Eddie Carraro 2121248 (Computer Engineering, AI and Robotics)**\n",
        "\n",
        "In this project, we implement and evaluate zero-shot methods for Named Entity Recognition (NER), based on the study by Xie et al. (2023): \"An Empirical Study of Zero-Shot NER with ChatGPT\". [https://arxiv.org/abs/2310.10035](https://arxiv.org/abs/2310.10035)\n",
        "<br>\n",
        "In addition to reproducing the baseline method proposed in the paper, we also design and test two additional zero-shot methods inspired by the same study.\n",
        "\n",
        "The dataset used for the experiments is available at:\n",
        "https://huggingface.co/datasets/tner/conll2003\n",
        "\n",
        "The model used is meta-llama/Llama-3.3-70B-Instruct-Turbo-Free via the together.ai API.\n",
        "\n",
        "---"
      ]
    },
    {
      "cell_type": "markdown",
      "metadata": {
        "id": "NglqIbhD9Xc_"
      },
      "source": [
        "#Imports and API Setup"
      ]
    },
    {
      "cell_type": "code",
      "execution_count": 143,
      "metadata": {
        "colab": {
          "base_uri": "https://localhost:8080/"
        },
        "collapsed": true,
        "id": "E4cKGJONpiGi",
        "outputId": "f66b0d47-df1d-4cac-c215-2bb9f4e3acae"
      },
      "outputs": [
        {
          "output_type": "stream",
          "name": "stdout",
          "text": [
            "Requirement already satisfied: datasets in /usr/local/lib/python3.11/dist-packages (3.6.0)\n",
            "Requirement already satisfied: filelock in /usr/local/lib/python3.11/dist-packages (from datasets) (3.18.0)\n",
            "Requirement already satisfied: numpy>=1.17 in /usr/local/lib/python3.11/dist-packages (from datasets) (2.0.2)\n",
            "Requirement already satisfied: pyarrow>=15.0.0 in /usr/local/lib/python3.11/dist-packages (from datasets) (18.1.0)\n",
            "Requirement already satisfied: dill<0.3.9,>=0.3.0 in /usr/local/lib/python3.11/dist-packages (from datasets) (0.3.7)\n",
            "Requirement already satisfied: pandas in /usr/local/lib/python3.11/dist-packages (from datasets) (2.2.2)\n",
            "Requirement already satisfied: requests>=2.32.2 in /usr/local/lib/python3.11/dist-packages (from datasets) (2.32.3)\n",
            "Requirement already satisfied: tqdm>=4.66.3 in /usr/local/lib/python3.11/dist-packages (from datasets) (4.67.1)\n",
            "Requirement already satisfied: xxhash in /usr/local/lib/python3.11/dist-packages (from datasets) (3.5.0)\n",
            "Requirement already satisfied: multiprocess<0.70.17 in /usr/local/lib/python3.11/dist-packages (from datasets) (0.70.15)\n",
            "Requirement already satisfied: fsspec<=2025.3.0,>=2023.1.0 in /usr/local/lib/python3.11/dist-packages (from fsspec[http]<=2025.3.0,>=2023.1.0->datasets) (2025.3.0)\n",
            "Requirement already satisfied: huggingface-hub>=0.24.0 in /usr/local/lib/python3.11/dist-packages (from datasets) (0.32.4)\n",
            "Requirement already satisfied: packaging in /usr/local/lib/python3.11/dist-packages (from datasets) (24.2)\n",
            "Requirement already satisfied: pyyaml>=5.1 in /usr/local/lib/python3.11/dist-packages (from datasets) (6.0.2)\n",
            "Requirement already satisfied: aiohttp!=4.0.0a0,!=4.0.0a1 in /usr/local/lib/python3.11/dist-packages (from fsspec[http]<=2025.3.0,>=2023.1.0->datasets) (3.11.15)\n",
            "Requirement already satisfied: typing-extensions>=3.7.4.3 in /usr/local/lib/python3.11/dist-packages (from huggingface-hub>=0.24.0->datasets) (4.14.0)\n",
            "Requirement already satisfied: hf-xet<2.0.0,>=1.1.2 in /usr/local/lib/python3.11/dist-packages (from huggingface-hub>=0.24.0->datasets) (1.1.2)\n",
            "Requirement already satisfied: charset-normalizer<4,>=2 in /usr/local/lib/python3.11/dist-packages (from requests>=2.32.2->datasets) (3.4.2)\n",
            "Requirement already satisfied: idna<4,>=2.5 in /usr/local/lib/python3.11/dist-packages (from requests>=2.32.2->datasets) (3.10)\n",
            "Requirement already satisfied: urllib3<3,>=1.21.1 in /usr/local/lib/python3.11/dist-packages (from requests>=2.32.2->datasets) (2.4.0)\n",
            "Requirement already satisfied: certifi>=2017.4.17 in /usr/local/lib/python3.11/dist-packages (from requests>=2.32.2->datasets) (2025.4.26)\n",
            "Requirement already satisfied: python-dateutil>=2.8.2 in /usr/local/lib/python3.11/dist-packages (from pandas->datasets) (2.9.0.post0)\n",
            "Requirement already satisfied: pytz>=2020.1 in /usr/local/lib/python3.11/dist-packages (from pandas->datasets) (2025.2)\n",
            "Requirement already satisfied: tzdata>=2022.7 in /usr/local/lib/python3.11/dist-packages (from pandas->datasets) (2025.2)\n",
            "Requirement already satisfied: aiohappyeyeballs>=2.3.0 in /usr/local/lib/python3.11/dist-packages (from aiohttp!=4.0.0a0,!=4.0.0a1->fsspec[http]<=2025.3.0,>=2023.1.0->datasets) (2.6.1)\n",
            "Requirement already satisfied: aiosignal>=1.1.2 in /usr/local/lib/python3.11/dist-packages (from aiohttp!=4.0.0a0,!=4.0.0a1->fsspec[http]<=2025.3.0,>=2023.1.0->datasets) (1.3.2)\n",
            "Requirement already satisfied: attrs>=17.3.0 in /usr/local/lib/python3.11/dist-packages (from aiohttp!=4.0.0a0,!=4.0.0a1->fsspec[http]<=2025.3.0,>=2023.1.0->datasets) (25.3.0)\n",
            "Requirement already satisfied: frozenlist>=1.1.1 in /usr/local/lib/python3.11/dist-packages (from aiohttp!=4.0.0a0,!=4.0.0a1->fsspec[http]<=2025.3.0,>=2023.1.0->datasets) (1.6.0)\n",
            "Requirement already satisfied: multidict<7.0,>=4.5 in /usr/local/lib/python3.11/dist-packages (from aiohttp!=4.0.0a0,!=4.0.0a1->fsspec[http]<=2025.3.0,>=2023.1.0->datasets) (6.4.4)\n",
            "Requirement already satisfied: propcache>=0.2.0 in /usr/local/lib/python3.11/dist-packages (from aiohttp!=4.0.0a0,!=4.0.0a1->fsspec[http]<=2025.3.0,>=2023.1.0->datasets) (0.3.1)\n",
            "Requirement already satisfied: yarl<2.0,>=1.17.0 in /usr/local/lib/python3.11/dist-packages (from aiohttp!=4.0.0a0,!=4.0.0a1->fsspec[http]<=2025.3.0,>=2023.1.0->datasets) (1.20.0)\n",
            "Requirement already satisfied: six>=1.5 in /usr/local/lib/python3.11/dist-packages (from python-dateutil>=2.8.2->pandas->datasets) (1.17.0)\n",
            "Requirement already satisfied: evaluate in /usr/local/lib/python3.11/dist-packages (0.4.3)\n",
            "Requirement already satisfied: datasets>=2.0.0 in /usr/local/lib/python3.11/dist-packages (from evaluate) (3.6.0)\n",
            "Requirement already satisfied: numpy>=1.17 in /usr/local/lib/python3.11/dist-packages (from evaluate) (2.0.2)\n",
            "Requirement already satisfied: dill in /usr/local/lib/python3.11/dist-packages (from evaluate) (0.3.7)\n",
            "Requirement already satisfied: pandas in /usr/local/lib/python3.11/dist-packages (from evaluate) (2.2.2)\n",
            "Requirement already satisfied: requests>=2.19.0 in /usr/local/lib/python3.11/dist-packages (from evaluate) (2.32.3)\n",
            "Requirement already satisfied: tqdm>=4.62.1 in /usr/local/lib/python3.11/dist-packages (from evaluate) (4.67.1)\n",
            "Requirement already satisfied: xxhash in /usr/local/lib/python3.11/dist-packages (from evaluate) (3.5.0)\n",
            "Requirement already satisfied: multiprocess in /usr/local/lib/python3.11/dist-packages (from evaluate) (0.70.15)\n",
            "Requirement already satisfied: fsspec>=2021.05.0 in /usr/local/lib/python3.11/dist-packages (from fsspec[http]>=2021.05.0->evaluate) (2025.3.0)\n",
            "Requirement already satisfied: huggingface-hub>=0.7.0 in /usr/local/lib/python3.11/dist-packages (from evaluate) (0.32.4)\n",
            "Requirement already satisfied: packaging in /usr/local/lib/python3.11/dist-packages (from evaluate) (24.2)\n",
            "Requirement already satisfied: filelock in /usr/local/lib/python3.11/dist-packages (from datasets>=2.0.0->evaluate) (3.18.0)\n",
            "Requirement already satisfied: pyarrow>=15.0.0 in /usr/local/lib/python3.11/dist-packages (from datasets>=2.0.0->evaluate) (18.1.0)\n",
            "Requirement already satisfied: pyyaml>=5.1 in /usr/local/lib/python3.11/dist-packages (from datasets>=2.0.0->evaluate) (6.0.2)\n",
            "Requirement already satisfied: aiohttp!=4.0.0a0,!=4.0.0a1 in /usr/local/lib/python3.11/dist-packages (from fsspec[http]>=2021.05.0->evaluate) (3.11.15)\n",
            "Requirement already satisfied: typing-extensions>=3.7.4.3 in /usr/local/lib/python3.11/dist-packages (from huggingface-hub>=0.7.0->evaluate) (4.14.0)\n",
            "Requirement already satisfied: hf-xet<2.0.0,>=1.1.2 in /usr/local/lib/python3.11/dist-packages (from huggingface-hub>=0.7.0->evaluate) (1.1.2)\n",
            "Requirement already satisfied: charset-normalizer<4,>=2 in /usr/local/lib/python3.11/dist-packages (from requests>=2.19.0->evaluate) (3.4.2)\n",
            "Requirement already satisfied: idna<4,>=2.5 in /usr/local/lib/python3.11/dist-packages (from requests>=2.19.0->evaluate) (3.10)\n",
            "Requirement already satisfied: urllib3<3,>=1.21.1 in /usr/local/lib/python3.11/dist-packages (from requests>=2.19.0->evaluate) (2.4.0)\n",
            "Requirement already satisfied: certifi>=2017.4.17 in /usr/local/lib/python3.11/dist-packages (from requests>=2.19.0->evaluate) (2025.4.26)\n",
            "Requirement already satisfied: python-dateutil>=2.8.2 in /usr/local/lib/python3.11/dist-packages (from pandas->evaluate) (2.9.0.post0)\n",
            "Requirement already satisfied: pytz>=2020.1 in /usr/local/lib/python3.11/dist-packages (from pandas->evaluate) (2025.2)\n",
            "Requirement already satisfied: tzdata>=2022.7 in /usr/local/lib/python3.11/dist-packages (from pandas->evaluate) (2025.2)\n",
            "Requirement already satisfied: aiohappyeyeballs>=2.3.0 in /usr/local/lib/python3.11/dist-packages (from aiohttp!=4.0.0a0,!=4.0.0a1->fsspec[http]>=2021.05.0->evaluate) (2.6.1)\n",
            "Requirement already satisfied: aiosignal>=1.1.2 in /usr/local/lib/python3.11/dist-packages (from aiohttp!=4.0.0a0,!=4.0.0a1->fsspec[http]>=2021.05.0->evaluate) (1.3.2)\n",
            "Requirement already satisfied: attrs>=17.3.0 in /usr/local/lib/python3.11/dist-packages (from aiohttp!=4.0.0a0,!=4.0.0a1->fsspec[http]>=2021.05.0->evaluate) (25.3.0)\n",
            "Requirement already satisfied: frozenlist>=1.1.1 in /usr/local/lib/python3.11/dist-packages (from aiohttp!=4.0.0a0,!=4.0.0a1->fsspec[http]>=2021.05.0->evaluate) (1.6.0)\n",
            "Requirement already satisfied: multidict<7.0,>=4.5 in /usr/local/lib/python3.11/dist-packages (from aiohttp!=4.0.0a0,!=4.0.0a1->fsspec[http]>=2021.05.0->evaluate) (6.4.4)\n",
            "Requirement already satisfied: propcache>=0.2.0 in /usr/local/lib/python3.11/dist-packages (from aiohttp!=4.0.0a0,!=4.0.0a1->fsspec[http]>=2021.05.0->evaluate) (0.3.1)\n",
            "Requirement already satisfied: yarl<2.0,>=1.17.0 in /usr/local/lib/python3.11/dist-packages (from aiohttp!=4.0.0a0,!=4.0.0a1->fsspec[http]>=2021.05.0->evaluate) (1.20.0)\n",
            "Requirement already satisfied: six>=1.5 in /usr/local/lib/python3.11/dist-packages (from python-dateutil>=2.8.2->pandas->evaluate) (1.17.0)\n"
          ]
        },
        {
          "output_type": "stream",
          "name": "stderr",
          "text": [
            "[nltk_data] Downloading package punkt_tab to /root/nltk_data...\n",
            "[nltk_data]   Package punkt_tab is already up-to-date!\n",
            "[nltk_data] Downloading package averaged_perceptron_tagger to\n",
            "[nltk_data]     /root/nltk_data...\n",
            "[nltk_data]   Package averaged_perceptron_tagger is already up-to-\n",
            "[nltk_data]       date!\n",
            "[nltk_data] Downloading package averaged_perceptron_tagger_eng to\n",
            "[nltk_data]     /root/nltk_data...\n",
            "[nltk_data]   Package averaged_perceptron_tagger_eng is already up-to-\n",
            "[nltk_data]       date!\n"
          ]
        }
      ],
      "source": [
        "!pip install -U datasets\n",
        "!pip install evaluate\n",
        "!pip install -q together\n",
        "\n",
        "# Used to parse the response of the model in json format\n",
        "import json\n",
        "import re\n",
        "import unicodedata\n",
        "\n",
        "# Used to load the dataset\n",
        "from datasets import load_dataset\n",
        "\n",
        "# Used in order to avoid APIs request limit\n",
        "import time\n",
        "\n",
        "# Used to generate POS Tags\n",
        "import nltk\n",
        "from nltk.tokenize import word_tokenize, sent_tokenize\n",
        "nltk.download('punkt_tab')\n",
        "nltk.download('averaged_perceptron_tagger')\n",
        "nltk.download('averaged_perceptron_tagger_eng')\n",
        "\n",
        "# Used for Evaluation part\n",
        "from sklearn.metrics import accuracy_score, classification_report, confusion_matrix\n",
        "import ast\n",
        "import matplotlib.pyplot as plt\n",
        "import seaborn as sns\n",
        "\n",
        "# Imports to use Together.ai APIs\n",
        "from together import Together\n",
        "\n",
        "#INSERT HERE YOU API FROM together.ai\n",
        "together_api_key = \"\"\n",
        "\n",
        "client = Together(api_key=together_api_key)\n"
      ]
    },
    {
      "cell_type": "markdown",
      "source": [
        "#Import dataset\n",
        "CoNLL-2003 NER dataset formatted in a part of [TNER](https://github.com/asahi417/tner) project.\n",
        "\n"
      ],
      "metadata": {
        "id": "_KMNfnW-j7Xr"
      }
    },
    {
      "cell_type": "code",
      "execution_count": 144,
      "metadata": {
        "id": "tGDHL27xZUj8"
      },
      "outputs": [],
      "source": [
        "# Dataset\n",
        "dataset = load_dataset(\"tner/conll2003\")\n",
        "\n",
        "entities = ['Organization', 'Miscellaneous', 'Person', 'Location']\n",
        "\n",
        "feature_names = {\n",
        "        \"B-ORG\": 1, \"B-MISC\": 2, \"B-PER\": 3, \"I-PER\": 4,\n",
        "        \"B-LOC\": 5, \"I-ORG\": 6, \"I-MISC\": 7, \"I-LOC\": 8   # We removed ' \"O\": 0 ' in order to let the model generate shorter responses\n",
        "    }"
      ]
    },
    {
      "cell_type": "markdown",
      "source": [
        "# Global variables"
      ],
      "metadata": {
        "id": "dGbVaD7RxnC8"
      }
    },
    {
      "cell_type": "code",
      "execution_count": 145,
      "metadata": {
        "collapsed": true,
        "id": "BG1uAmv3sjQU"
      },
      "outputs": [],
      "source": [
        "# Number of the examples to be taken from the train set\n",
        "TEST_SIZE = 50\n",
        "\n",
        "# Model used\n",
        "MODEL= \"meta-llama/Llama-3.3-70B-Instruct-Turbo-Free\"\n",
        "\n",
        "# Used in order not to terminate the max number of model calls per minute\n",
        "TIME_SLEEP = 3\n",
        "\n",
        "test_dataset = dataset[\"test\"]"
      ]
    },
    {
      "cell_type": "markdown",
      "metadata": {
        "id": "-qEQ1yH55Z5U"
      },
      "source": [
        "#Helper functions"
      ]
    },
    {
      "cell_type": "markdown",
      "source": [
        "**modelRequest** function is used to make a model call. In particular, we use a client to make an API call to a model from the *together.ai* site."
      ],
      "metadata": {
        "id": "AovT0Aqqsoue"
      }
    },
    {
      "cell_type": "code",
      "execution_count": 146,
      "metadata": {
        "id": "RTE0yso05dlb"
      },
      "outputs": [],
      "source": [
        "def modelRequest(prompt, messages):\n",
        "\n",
        "    max_wait = 60  # max wait time in seconds\n",
        "    wait_time = 1  # initial wait time\n",
        "\n",
        "    while True:\n",
        "        try:\n",
        "            messages.append({\n",
        "                    \"role\": \"user\", \"content\": prompt})\n",
        "\n",
        "            response = client.chat.completions.create(\n",
        "                          model= MODEL,\n",
        "                          messages= messages\n",
        "                      )\n",
        "\n",
        "            return response.choices[0].message.content\n",
        "\n",
        "        except Exception as e:\n",
        "            # Check if error is rate limit error by error message or code\n",
        "            if hasattr(e, \"code\") and e.code == 429:\n",
        "                print(f\"[429] Rate limit exceeded. Waiting {wait_time} seconds before retrying...\")\n",
        "                time.sleep(wait_time)\n",
        "                wait_time = min(wait_time * 2, max_wait)\n",
        "            else:\n",
        "                print(f\"[Fatal] Unexpected error: {e}\")\n",
        "                raise\n"
      ]
    },
    {
      "cell_type": "code",
      "source": [
        "def clean_invisible_chars(s):\n",
        "    # Function to remove characters that could have problems with json parsing\n",
        "    return ''.join(c for c in s if c.isprintable() or c in '\\r\\n\\t')\n",
        "\n",
        "def extract_json(text):\n",
        "    text = clean_invisible_chars(text.strip())\n",
        "    try:\n",
        "        return json.loads(text)\n",
        "    except json.JSONDecodeError:\n",
        "        pass\n",
        "\n",
        "    start = text.find('{')\n",
        "    end = text.rfind('}')\n",
        "    if start != -1 and end != -1 and end > start:\n",
        "        json_str = text[start:end+1]\n",
        "        try:\n",
        "            return json.loads(clean_invisible_chars(json_str))\n",
        "        except json.JSONDecodeError as e:\n",
        "            raise ValueError(f\"JSON parsing error inside extracted block: {e}\")\n",
        "\n",
        "    raise ValueError(\"No valid JSON block found\")"
      ],
      "metadata": {
        "id": "bpnuCY949TR5"
      },
      "execution_count": 147,
      "outputs": []
    },
    {
      "cell_type": "markdown",
      "source": [
        "\n",
        "**EVALUATION PART**\n",
        "\n",
        "**evaluate_ner** returns the performance of a specific method given the predicted tags (the gold tags are computed in the function itself)."
      ],
      "metadata": {
        "id": "CqENjV_A-RmA"
      }
    },
    {
      "cell_type": "code",
      "source": [
        "def evaluate_ner(pred):\n",
        "    gold = test_dataset[\"tags\"][:TEST_SIZE]\n",
        "\n",
        "    if len(gold) != len(pred):\n",
        "        raise ValueError(\"Gold and pred list with different sizes.\")\n",
        "\n",
        "    gold_labels = [item for sublist in gold for item in sublist]\n",
        "    pred_labels = [item for sublist in pred for item in sublist]\n",
        "\n",
        "    accuracy = accuracy_score(gold_labels, pred_labels)\n",
        "    report = classification_report(gold_labels, pred_labels, digits=3, zero_division=0)\n",
        "\n",
        "    print(f\"Token-Level Accuracy: {accuracy:.3f}\\n\")\n",
        "    print(\"Classification Report (token-level):\\n\")\n",
        "    print(report)\n",
        "\n",
        "    labels = sorted(set(gold_labels + pred_labels))\n",
        "    cm = confusion_matrix(gold_labels, pred_labels, labels=labels)\n",
        "\n",
        "    id2label = {v: k for k, v in feature_names.items()}\n",
        "\n",
        "    label_names = [id2label.get(l, str(l)) for l in labels]\n",
        "\n",
        "    plt.figure(figsize=(7, 5))\n",
        "    sns.heatmap(cm, annot=True, fmt=\"d\", cmap=\"Blues\",\n",
        "                xticklabels=label_names, yticklabels=label_names)\n",
        "    plt.xlabel(\"Predicted Labels\")\n",
        "    plt.ylabel(\"True Labels\")\n",
        "    plt.title(\"Confusion Matrix (token-level)\")\n",
        "    plt.tight_layout()\n",
        "    plt.show()\n"
      ],
      "metadata": {
        "id": "yLzjlplPk-zu"
      },
      "execution_count": 148,
      "outputs": []
    },
    {
      "cell_type": "markdown",
      "source": [
        "**predicted_tags_for_evaluation** returns the predicted tags for the methods from the paper, given the JSON file."
      ],
      "metadata": {
        "id": "fB8vj-gN-y7d"
      }
    },
    {
      "cell_type": "code",
      "source": [
        "def predicted_tags_for_evaluation(json_file):\n",
        "  predicted_tags = []\n",
        "\n",
        "  with open(json_file, \"r\") as f:\n",
        "      data = f.read()\n",
        "\n",
        "  # Convert the string representation of the list of dictionaries into actual Python objects\n",
        "  lists_of_dictionaries = ast.literal_eval(data)\n",
        "\n",
        "  # Used to keep track of our current index across the list of dictionaries\n",
        "  accummulated_list_index = 0\n",
        "\n",
        "\n",
        "  for current_phrase_position in range(TEST_SIZE):\n",
        "\n",
        "    current_phrase = test_dataset[\"tokens\"][current_phrase_position]\n",
        "\n",
        "    # A temporary list to store all label dictionaries for the current sentence\n",
        "    whole_current_list = []\n",
        "\n",
        "    # Default labels for the current sentences (all zeros)\n",
        "    predicted_tags_for_single_sentence = [0] * len(current_phrase)\n",
        "\n",
        "    try:\n",
        "\n",
        "      # Case in which we are NOT applying the Vanilla Model, so we want to merge the lists for the len(ordered_labels_list) labels\n",
        "      if len(lists_of_dictionaries) != TEST_SIZE:\n",
        "        for label_index in range(len(ordered_labels_list)):\n",
        "          current_list = ast.literal_eval(lists_of_dictionaries[label_index + accummulated_list_index])\n",
        "\n",
        "          # Add all the dictionaries in the current label list to the combined list\n",
        "          if current_list:\n",
        "            for dictionary in current_list:\n",
        "              whole_current_list.append(dictionary)\n",
        "\n",
        "        # Move forward in the list of dictionaries by the number of labels\n",
        "        accummulated_list_index += len(ordered_labels_list)\n",
        "\n",
        "      # In the other cases...\n",
        "      else:\n",
        "        whole_current_list = ast.literal_eval(lists_of_dictionaries[accummulated_list_index])\n",
        "        accummulated_list_index += 1\n",
        "\n",
        "      # If there are no labels for this sentence, use an empty dictionary\n",
        "      if not whole_current_list:\n",
        "        current_dictionary = {}\n",
        "      else:\n",
        "\n",
        "        for current_dictionary in whole_current_list:\n",
        "          for character_in_phrase in range(len(current_phrase)):\n",
        "            if current_phrase[character_in_phrase] in current_dictionary:\n",
        "              predicted_tags_for_single_sentence[character_in_phrase] = feature_names.get(current_dictionary[current_phrase[character_in_phrase]])\n",
        "\n",
        "    # If there's a syntax error while parsing the dictionary, mark the sentence with -1s (which consists of a non-valid label)\n",
        "    except SyntaxError:\n",
        "\n",
        "      predicted_tags_for_single_sentence = [-1] * (len(current_phrase))\n",
        "\n",
        "      if len(lists_of_dictionaries) != TEST_SIZE:\n",
        "\n",
        "        #We need to skip the lists to use yet regarding the bad-parsed sentence\n",
        "        lists_to_skip = len(ordered_labels_list) - label_index\n",
        "        accummulated_list_index += lists_to_skip\n",
        "\n",
        "      else:\n",
        "\n",
        "        accummulated_list_index += 1\n",
        "\n",
        "\n",
        "\n",
        "    predicted_tags.append(predicted_tags_for_single_sentence)\n",
        "\n",
        "  return predicted_tags"
      ],
      "metadata": {
        "id": "f3bNhG36-Y6J"
      },
      "execution_count": 180,
      "outputs": []
    },
    {
      "cell_type": "markdown",
      "source": [
        "#Methods from the paper"
      ],
      "metadata": {
        "id": "gkQq6fot2zkU"
      }
    },
    {
      "cell_type": "markdown",
      "metadata": {
        "id": "fLuvFw0X_aXH"
      },
      "source": [
        "The following function is used to generate the prompt we need, based on the task we want to accomplish (0 stands for \"Vanilla\" Method, other values are good for all the other tasks). We divided it in two in order to use less computation during the execution, as the entire conversation is passed to the model in each iteration anyway, so it has access to the first part of the prompt itself."
      ]
    },
    {
      "cell_type": "code",
      "execution_count": 150,
      "metadata": {
        "id": "cbC4fi1E_akq"
      },
      "outputs": [],
      "source": [
        "def createPrompt(task, tokens_list, pos_tags_list, label_order_position):\n",
        "\n",
        "  if label_order_position == 0:\n",
        "\n",
        "    indexed_labels = [f\"{i} = '{label}'\" for label, i in feature_names.items()]\n",
        "    indexed_labels_str = \"\\n\".join(indexed_labels)\n",
        "\n",
        "    explanation = (\n",
        "        \"ORG = Organization\\n\"\n",
        "        +\"PER = Person\\n\"\n",
        "        +\"LOC = Location\\n\"\n",
        "        +\"MISC = Miscellaneous entity\\n\"\n",
        "    )\n",
        "\n",
        "    label_names = (\n",
        "        \"Given the following entity label set: \"\n",
        "        + ordered_labels\n",
        "        + \"\\nand the following BIO tags with the relative indexes:\\n\"\n",
        "        + indexed_labels_str\n",
        "        + \"\\nwhich are explained by the following explanation:\\n\"\n",
        "        + explanation\n",
        "    )\n",
        "\n",
        "    if pos_tags_list != []:\n",
        "      pos_tags = ' '.join([str(s) for s in pos_tags_list])\n",
        "      pos_tags_str = (\n",
        "          \"\\nGiven the POS tags set: \"\n",
        "          + pos_tags\n",
        "          + \"\\n\"\n",
        "      )\n",
        "      label_names = label_names + pos_tags_str\n",
        "\n",
        "    prompt = (\n",
        "        label_names\n",
        "        + \"\\nPlease recognize the named entities in the given text.\\n\"\n",
        "        + \"Text: \"\n",
        "        + str(tokens_list)\n",
        "    )\n",
        "\n",
        "    if task != 0:   # If the Method is NOT the Vanilla one...\n",
        "      prompt = (\n",
        "        prompt\n",
        "        + \"'\\nQuestion: What are the named entities labeled as '\" + ordered_labels_list[0] + \"' in the text? \"\n",
        "      )\n",
        "\n",
        "  else:\n",
        "    prompt = (\n",
        "      \"\\nQuestion: Considering the assigned labels in the previously given responses, what are the named entities labeled as '\" + ordered_labels_list[label_order_position] + \"' in the text? \"\n",
        "      + \"Do NOT re-label words which you already labelled on the previous questions.\"\n",
        "    )\n",
        "\n",
        "  prompt = (\n",
        "      prompt\n",
        "      + \"\\nProvide the entities in the following JSON format: [{'Token_1': 'Label_1'}, ..., {'Token_i': 'Label_i'}] where Labels are the BIO tags. If no such entities exist, return the following empty list: '[]' .\"\n",
        "      + \"\\nAnswer only with the final list, without providing explanations or reasoning.\"\n",
        "  )\n",
        "\n",
        "  return prompt"
      ]
    },
    {
      "cell_type": "markdown",
      "metadata": {
        "id": "z9eWMuOpRv2i"
      },
      "source": [
        "#Label order given by the selected model\n",
        "As stated in the paper, we need to ask our model to give a reasonable label order based on its understanding of the labels."
      ]
    },
    {
      "cell_type": "code",
      "execution_count": 151,
      "metadata": {
        "colab": {
          "base_uri": "https://localhost:8080/"
        },
        "id": "xmdk9THnRuiK",
        "outputId": "26c9df6a-b746-4471-c54d-58edc4636563"
      },
      "outputs": [
        {
          "output_type": "stream",
          "name": "stdout",
          "text": [
            "Labels order:\n",
            " ['Person', 'Organization', 'Location', 'Miscellaneous']\n"
          ]
        }
      ],
      "source": [
        "prompt_for_labels_ordering = (\"Given the label set \"\n",
        "          + str(entities)\n",
        "          +\", give a reasonable order of them in a list.\\n\"\n",
        "          + \"Answer without providing explanations and providing only the list of ordered labels.\\n\"\n",
        "          + \"Answer: \"\n",
        ")\n",
        "\n",
        "ordered_labels = modelRequest(prompt_for_labels_ordering, [])\n",
        "\n",
        "ordered_labels_list = eval(ordered_labels)\n",
        "\n",
        "print(\"Labels order:\\n\", ordered_labels_list)"
      ]
    },
    {
      "cell_type": "markdown",
      "metadata": {
        "id": "JfPcrTJloRkg"
      },
      "source": [
        "#Vanilla Method\n",
        "Also called the Baseline Method. With the Vanilla Method it will be asked to the model to detect the labels in the provided sentence with a single call.\n",
        "\n",
        "**Example of the prompt**:\n",
        "```\n",
        "Given the following entity label set:  ['Organization', 'Person', 'Location', 'Miscellaneous']\n",
        "and the following BIO tags with the relative indexes:\n",
        "1 = 'B-ORG'\n",
        "2 = 'B-MISC'\n",
        "3 = 'B-PER'\n",
        "4 = 'I-PER'\n",
        "5 = 'B-LOC'\n",
        "6 = 'I-ORG'\n",
        "7 = 'I-MISC'\n",
        "8 = 'I-LOC'\n",
        "which are explained by the following explanation:\n",
        "ORG = Organization\n",
        "PER = Person\n",
        "LOC = Location\n",
        "MISC = Miscellaneous entity\n",
        "\n",
        "Please recognize the named entities in the given text.\n",
        "Text: ['Hi', 'my', 'name', 'is', 'Roberto', '.']\n",
        "Provide the entities in the following JSON format: [{'Token_1': 'Label_1'}, ..., {'Token_i': 'Label_i'}] where Labels are the BIO tags. If no such entities exist, return the following empty list: '[]' .\n",
        "Answer only with the final list, without providing explanations or reasoning.\n",
        "```\n"
      ]
    },
    {
      "cell_type": "code",
      "execution_count": 152,
      "metadata": {
        "colab": {
          "base_uri": "https://localhost:8080/"
        },
        "id": "kl7QEBwVoRzk",
        "outputId": "1e82cd4f-9112-4dd5-8842-04acefa3c5df"
      },
      "outputs": [
        {
          "output_type": "stream",
          "name": "stdout",
          "text": [
            "[{'SOCCER': 'B-MISC'}, {'JAPAN': 'B-LOC'}, {'CHINA': 'B-LOC'}]\n"
          ]
        }
      ],
      "source": [
        "predicted_tags = []\n",
        "responses = []\n",
        "\n",
        "for i in range(TEST_SIZE):\n",
        "\n",
        "  prompt = createPrompt(0, test_dataset[\"tokens\"][i], [], 0)\n",
        "\n",
        "  response_raw = modelRequest(prompt,[])  # Messages are not required in Vanilla Method\n",
        "\n",
        "  time.sleep(TIME_SLEEP)\n",
        "\n",
        "  # We print only the first one as an example\n",
        "  if ( i == 0 ):\n",
        "    print(response_raw)\n",
        "\n",
        "  responses.append(response_raw)"
      ]
    },
    {
      "cell_type": "code",
      "execution_count": 153,
      "metadata": {
        "id": "ivMxuFQcyF2Q"
      },
      "outputs": [],
      "source": [
        "json_object = json.dumps(responses)\n",
        "\n",
        "# Writing to the json file\n",
        "with open(\"Vanilla.json\", \"w\") as outfile:\n",
        "    outfile.write(json_object)"
      ]
    },
    {
      "cell_type": "markdown",
      "metadata": {
        "id": "-07CGg5pk2Ol"
      },
      "source": [
        "#Basic Decomposed-QA Method\n",
        "In the Basic Decomposed-QA Method, we will take the Vanilla Method prompt and we will enhance it asking to the model to detect the single labels in different calls.\n",
        "\n",
        "**Example of the prompt for the first call**:\n",
        "```\n",
        "Given the following entity label set:  ['Organization', 'Person', 'Location', 'Miscellaneous']\n",
        "and the following BIO tags with the relative indexes:\n",
        "1 = 'B-ORG'\n",
        "2 = 'B-MISC'\n",
        "3 = 'B-PER'\n",
        "4 = 'I-PER'\n",
        "5 = 'B-LOC'\n",
        "6 = 'I-ORG'\n",
        "7 = 'I-MISC'\n",
        "8 = 'I-LOC'\n",
        "which are explained by the following explanation:\n",
        "ORG = Organization\n",
        "PER = Person\n",
        "LOC = Location\n",
        "MISC = Miscellaneous entity\n",
        "\n",
        "Please recognize the named entities in the given text.\n",
        "Text: ['Hi', 'my', 'name', 'is', 'Roberto', '.']\n",
        "Question: What are the named entities labeled as 'Organization' in the text?\n",
        "Provide the entities in the following JSON format: [{'Token_1': 'Label_1'}, ..., {'Token_i': 'Label_i'}] where Labels are the BIO tags. If no such entities exist, return the following empty list: '[]' .\n",
        "Answer only with the final list, without providing explanations or reasoning.\n",
        "```\n",
        "<br>\n",
        "\n",
        "**Example of the prompt for the next calls**:\n",
        "```\n",
        "Question: Considering the assigned labels in the previously given responses, what are the named entities labeled as 'Person' in the text?  Do NOT re-label words which you already labelled on the previous questions.\n",
        "Provide the entities in the following JSON format: [{'Token_1': 'Label_1'}, ..., {'Token_i': 'Label_i'}] where Labels are the BIO tags. If no such entities exist, return the following empty list: '[]' .\n",
        "Answer only with the final list, without providing explanations or reasoning.\n",
        "```"
      ]
    },
    {
      "cell_type": "code",
      "execution_count": 155,
      "metadata": {
        "collapsed": true,
        "id": "EHJ8DibSBf4_",
        "colab": {
          "base_uri": "https://localhost:8080/"
        },
        "outputId": "400a526a-3bc3-4b0c-d376-0a00d232c282"
      },
      "outputs": [
        {
          "output_type": "stream",
          "name": "stdout",
          "text": [
            "Person: []\n",
            "Organization: []\n",
            "Location: [{'JAPAN': 'B-LOC'}, {'CHINA': 'B-LOC'}]\n",
            "Miscellaneous: [{'SOCCER': 'B-MISC'}]\n"
          ]
        }
      ],
      "source": [
        "predicted_tags = []\n",
        "responses = []\n",
        "\n",
        "for i in range(TEST_SIZE):\n",
        "\n",
        "  # Start a new conversation for each sentence\n",
        "  messages = []\n",
        "\n",
        "  for label in ordered_labels_list:\n",
        "    prompt = createPrompt(1, test_dataset[\"tokens\"][i], [], ordered_labels_list.index(label))\n",
        "\n",
        "    response_raw = modelRequest(prompt,messages)\n",
        "    time.sleep(TIME_SLEEP)\n",
        "\n",
        "    if (i==0):\n",
        "      # Print only the first one as an example\n",
        "      print(label + \": \" + response_raw)\n",
        "\n",
        "\n",
        "    # Add to messages the response of the model\n",
        "    messages.append({\n",
        "            \"role\": \"assistant\", \"content\": response_raw})\n",
        "\n",
        "    responses.append(response_raw)"
      ]
    },
    {
      "cell_type": "code",
      "execution_count": 156,
      "metadata": {
        "id": "fZXUle4fr5qI"
      },
      "outputs": [],
      "source": [
        "json_object = json.dumps(responses)\n",
        "\n",
        "# Writing to the json filee\n",
        "with open(\"Decomposed_QA.json\", \"w\") as outfile:\n",
        "    outfile.write(json_object)"
      ]
    },
    {
      "cell_type": "markdown",
      "metadata": {
        "id": "GHMM_3GviWHs"
      },
      "source": [
        "#Tool Augmentation Method\n",
        "In the following part, we will use it to perform the so-called Tool Augmentation. In particular, compared to the Basic Decomposed-QA Method, we will also use POS Tags to detect the labels.\n",
        "\n",
        "**Example of the prompt for the first call**:\n",
        "```\n",
        "Given the following entity label set:  ['Organization', 'Person', 'Location', 'Miscellaneous']\n",
        " and the following BIO tags with the relative indexes:\n",
        "1 = 'B-ORG'\n",
        "2 = 'B-MISC'\n",
        "3 = 'B-PER'\n",
        "4 = 'I-PER'\n",
        "5 = 'B-LOC'\n",
        "6 = 'I-ORG'\n",
        "7 = 'I-MISC'\n",
        "8 = 'I-LOC'\n",
        "which are explained by the following explanation:\n",
        "ORG = Organization\n",
        "PER = Person\n",
        "LOC = Location\n",
        "MISC = Miscellaneous entity\n",
        "\n",
        "Given the POS tags set: ('Hi', 'NNP') ('my', 'PRP$') ('name', 'NN') ('is', 'VBZ') ('Roberto', 'NNP') ('.', '.')\n",
        "\n",
        "Please recognize the named entities in the given text.\n",
        "Text: '['Hi', 'my', 'name', 'is', 'Roberto', '.']'\n",
        "Question: What are the named entities labeled as 'Organization' in the text?\n",
        "Provide the entities in the following JSON format: [{'Token_1': 'Label_1'}, ..., {'Token_i': 'Label_i'}] where Labels are the BIO tags. If no such entities exist, return the following empty list: '[]' .\n",
        "Answer only with the final list, without providing explanations or reasoning.\n",
        "```\n",
        "<br>\n",
        "\n",
        "**Example of the prompt for the next calls**:\n",
        "```\n",
        "Question: Considering the assigned labels in the previously given responses, what are the named entities labeled as 'Person' in the text? Do NOT re-label words which you already labelled on the previous questions.\n",
        "Provide the entities in the following JSON format: [{'Token_1': 'Label_1'}, ..., {'Token_i': 'Label_i'}] where Labels are the BIO tags. If no such entities exist, return the following empty list: '[]' .\n",
        "Answer only with the list, without providing explanations or reasoning.\n",
        "```"
      ]
    },
    {
      "cell_type": "markdown",
      "metadata": {
        "id": "OhNZNAi_k-yp"
      },
      "source": [
        "**POS Tagging**"
      ]
    },
    {
      "cell_type": "code",
      "execution_count": 157,
      "metadata": {
        "collapsed": true,
        "id": "JL06gc5vj5yv"
      },
      "outputs": [],
      "source": [
        "sentences = [test_dataset[\"tokens\"][i] for i in range(TEST_SIZE)]\n",
        "\n",
        "pos_tags = []\n",
        "\n",
        "for sentence_tokens in sentences:\n",
        "  sentence_str = \" \".join(sentence_tokens)  # Join tokens into a single string\n",
        "  for sent in sent_tokenize(sentence_str):\n",
        "    wordtokens = word_tokenize(sent)\n",
        "    pos_tags.append(nltk.pos_tag(wordtokens))"
      ]
    },
    {
      "cell_type": "code",
      "execution_count": 158,
      "metadata": {
        "collapsed": true,
        "id": "kSguUwz1fDMx",
        "colab": {
          "base_uri": "https://localhost:8080/"
        },
        "outputId": "753e64a4-0feb-49b4-aa87-2578e5f3503d"
      },
      "outputs": [
        {
          "output_type": "stream",
          "name": "stdout",
          "text": [
            "Person: []\n",
            "Organization: []\n",
            "Location: [{'JAPAN': 'B-LOC'}, {'CHINA': 'B-LOC'}]\n",
            "Miscellaneous: [{'SOCCER': 'B-MISC'}, {'SURPRISE': 'B-MISC'}, {'DEFEAT': 'B-MISC'}, {'LUCKY': 'B-MISC'}, {'WIN': 'B-MISC'}, {'GET': 'B-MISC'}, {'IN': 'B-MISC'}]\n"
          ]
        }
      ],
      "source": [
        "predicted_tags = []\n",
        "responses = []\n",
        "\n",
        "for i in range(TEST_SIZE):\n",
        "\n",
        "  # Start a new conversation for each sentence\n",
        "  messages = []\n",
        "\n",
        "  for label in ordered_labels_list:\n",
        "    prompt = createPrompt(2, test_dataset[\"tokens\"][i], pos_tags[i], ordered_labels_list.index(label))\n",
        "\n",
        "    response_raw = modelRequest(prompt,messages)\n",
        "    time.sleep(TIME_SLEEP)\n",
        "\n",
        "    if (i==0):\n",
        "      print(label + \": \" + response_raw)\n",
        "\n",
        "    # Add to messages the response of the model\n",
        "    messages.append({\n",
        "            \"role\": \"assistant\", \"content\": response_raw})\n",
        "\n",
        "    responses.append(response_raw)"
      ]
    },
    {
      "cell_type": "code",
      "execution_count": 159,
      "metadata": {
        "id": "5r8Vn32th1cz"
      },
      "outputs": [],
      "source": [
        "json_object = json.dumps(responses)\n",
        "\n",
        "# Writing to the json file\n",
        "with open(\"Tool_Augmentation.json\", \"w\") as outfile:\n",
        "    outfile.write(json_object)"
      ]
    },
    {
      "cell_type": "markdown",
      "metadata": {
        "id": "vHeDNjsKy7xs"
      },
      "source": [
        "#Our Method"
      ]
    },
    {
      "cell_type": "markdown",
      "metadata": {
        "id": "hGzZDw_x3jLo"
      },
      "source": [
        "# Multi-Agent Prompting for Named Entity Recognition (NER)\n",
        "\n",
        "The new method we came up for Named Entity Recognition (NER) implements a multi-agent prompting architecture. Each agent operates with a specific objective to maximize interpretability in entity annotation:\n",
        "\n",
        "- ## Reasoner\n",
        "Performs initial NER tagging and provides detailed justifications for each label. Its output aims to make the underlying reasoning explicit and traceable.\n",
        "- ## Critic\n",
        "Evaluates the logical coherence between the input text and the Reasoner's explanation. It identifies inconsistencies, fallacies, omissions, or overgeneralizations in the reasoning process.\n",
        "- ## Arbiter\n",
        "Acts as a final decision-maker. It reviews both the Reasoner's and Critic's outputs, adjudicates disagreements, and determines whether to accept or reject the proposed annotations.\n",
        "\n",
        "This multi-agent configuration allows the system to simulate a structured peer-review process, ensuring that the generated labels are not only plausible but also clearly justified and critically examined."
      ]
    },
    {
      "cell_type": "markdown",
      "metadata": {
        "id": "rewccVH53ogp"
      },
      "source": [
        "## Prompt for the Reasoner\n",
        "\n",
        "**Example of the prompt**:\n",
        "```\n",
        "Given the following entity label set:\n",
        "B-ORG, B-MISC, B-PER, I-PER, B-LOC, I-ORG, I-MISC, I-LOC, O\n",
        "\n",
        "You are a Named Entity Recognition (NER) expert.\n",
        "Your task is to extract all named entities from the input sentence.\n",
        "For each extracted entity, explain why you assigned that label, based on the linguistic or contextual cues in the sentence.\n",
        "Be as explicit and structured as possible in your reasoning.\n",
        "\n",
        "Input sentence:\n",
        "['Hi', 'my', 'name', 'is', 'Roberto', '.']\n",
        "\n",
        "```"
      ]
    },
    {
      "cell_type": "code",
      "execution_count": 160,
      "metadata": {
        "id": "PMfv7KBT3j0_"
      },
      "outputs": [],
      "source": [
        "def reasonerPrompt(tokens_list):\n",
        "    ordered_labels = list(feature_names.keys())\n",
        "\n",
        "    label_names = (\n",
        "        \"Given the following entity label set:\\n\"\n",
        "        + \", \".join(ordered_labels) + \"\\n\\n\"\n",
        "    )\n",
        "\n",
        "    num_tokens = len(tokens_list)\n",
        "    tokens_repr = str(tokens_list)\n",
        "\n",
        "    prompt = (\n",
        "        label_names\n",
        "        + \"You are a Named Entity Recognition (NER) expert.\\n\"\n",
        "        + \"Your task is to extract all named entities from the input sentence.\\n\"\n",
        "        + \"For each extracted entity, explain why you assigned that label, based on the linguistic or contextual cues in the sentence.\\n\"\n",
        "        + \"Be as explicit and structured as possible in your reasoning.\\n\"\n",
        "        + f\"\\nInput sentence:\\n\"\n",
        "        + tokens_repr\n",
        "    )\n",
        "\n",
        "    return prompt"
      ]
    },
    {
      "cell_type": "markdown",
      "metadata": {
        "id": "5ZvFh0QH3v25"
      },
      "source": [
        "## Prompt for the Critic\n",
        "\n",
        "**Example of the prompt**:\n",
        "```\n",
        "Given the following entity label set:\n",
        "B-ORG, B-MISC, B-PER, I-PER, B-LOC, I-ORG, I-MISC, I-LOC, O\n",
        "\n",
        "You are a critical evaluator of named entity recognition (NER) annotations and their explanations.\n",
        "Your task is to assess whether the explanations for each extracted entity are:\n",
        " - logically coherent,\n",
        " - contextually appropriate,\n",
        " - and linguistically grounded in the sentence.\n",
        "\n",
        "You should point out:\n",
        "- incorrect or weak justifications,\n",
        "- hallucinated or missing entities,\n",
        "- mislabelings based on poor contextual understanding.\n",
        "\n",
        "Do not perform the NER task yourself. Only critique the provided reasoning.\n",
        "\n",
        "Sentence tokens:\n",
        "['Hi', 'my', 'name', 'is', 'Roberto','.']\n",
        "\n",
        "**NER output and reasoning to analize:**\n",
        "\n",
        " {ner_output_from_the_reasoner}\n",
        "\n",
        "Now write your critique. Use plain text. For each issue, clearly mention:\n",
        "- the entity mention involved\n",
        "- what’s wrong with the explanation or label (if anything)\n",
        "- your suggestion for improving the reasoning\n",
        "\n",
        "Write in natural language with numbered points or bullet points if helpful. Stick to the tags provided without suggesting new ones.\n",
        "\n",
        "```"
      ]
    },
    {
      "cell_type": "code",
      "execution_count": 161,
      "metadata": {
        "id": "RfukwNYa3xgg"
      },
      "outputs": [],
      "source": [
        "def criticPrompt(sentence, ner_output):\n",
        "  ordered_labels = list(feature_names.keys())\n",
        "\n",
        "  label_names = (\n",
        "      \"Given the following entity label set:\\n\"\n",
        "      + \", \".join(ordered_labels) + \"\\n\\n\"\n",
        "  )\n",
        "\n",
        "  tokens_repr = str(sentence)\n",
        "\n",
        "  prompt = (\n",
        "      label_names\n",
        "      + \"You are a critical evaluator of named entity recognition (NER) annotations and their explanations.\\n\"\n",
        "      + \"Your task is to assess whether the explanations for each extracted entity are:\\n\"\n",
        "      + \" - logically coherent,\\n\"\n",
        "      + \" - contextually appropriate,\\n\"\n",
        "      + \" - and linguistically grounded in the sentence.\\n\\n\"\n",
        "      + \"You should point out:\\n\"\n",
        "      + \"- incorrect or weak justifications,\\n\"\n",
        "      + \"- hallucinated or missing entities,\\n\"\n",
        "      + \"- mislabelings based on poor contextual understanding.\\n\\n\"\n",
        "      + \"Do not perform the NER task yourself. Only critique the provided reasoning.\\n\\n\"\n",
        "      + \"Sentence tokens:\\n\"\n",
        "      + tokens_repr + \"\\n\\n\"\n",
        "      + \"**NER output and reasoning to analize:**\\n\\n\"\n",
        "      + ner_output + \"\\n\\n\"\n",
        "      + \"Now write your critique. Use plain text. For each issue, clearly mention:\\n\"\n",
        "      + \"- the entity mention involved\\n\"\n",
        "      + \"- what’s wrong with the explanation or label (if anything)\\n\"\n",
        "      + \"- your suggestion for improving the reasoning\\n\\n\"\n",
        "      + \"Write in natural language with numbered points or bullet points if helpful. Stick to the tags provided without suggesting new ones.\"\n",
        "  )\n",
        "\n",
        "  return prompt"
      ]
    },
    {
      "cell_type": "markdown",
      "metadata": {
        "id": "wzFAq0su34Hm"
      },
      "source": [
        "## Prompt for the Arbiter\n",
        "\n",
        "**Example of the prompt**:\n",
        "```\n",
        "Given the following entity label set:\n",
        "B-ORG, B-MISC, B-PER, I-PER, B-LOC, I-ORG, I-MISC, I-LOC, O\n",
        "\n",
        "You are an impartial arbiter in a peer review process for a named entity recognition (NER) task.\n",
        "\n",
        "You will receive:\n",
        "- The original input sentence\n",
        "- The named entity predictions with detailed explanations (from the Reasoner)\n",
        "- The critique of those predictions and explanations (from the Critic)\n",
        "\n",
        "Your task is to evaluate the Reasoner's explanations in light of the Critic's objections.\n",
        "For each mentioned entity, produce a structured evaluation as a JSON object containing the following fields:\n",
        "- mention\n",
        "- initial_label\n",
        "- decision (accept, reject, or modify)\n",
        "- final_label\n",
        "- justification (concise and logical)\n",
        "\n",
        "Important rules:\n",
        "- Base your decisions only on the explanations and critiques provided.\n",
        "- Do not use your own external knowledge of NER.\n",
        "- Cover all entities mentioned in either the NER output or the critique.\n",
        "- Use only the valid labels (mentioned above).\n",
        "\n",
        "Now, process the following inputs.\n",
        "\n",
        "Input sentence with 6 tokens:\n",
        "['Hi', 'my', 'name', 'is', 'Roberto','.']\n",
        "\n",
        "NER output from the Reasoner with explanations:\n",
        "{reasoner_output}\n",
        "\n",
        "Output from the Critic:\n",
        "{critic_output}\n",
        "\n",
        "Begin your structured evaluations now.\n",
        "\n",
        "Then, return a valid JSON object representing the final label for each token in the input sentence.\n",
        "The JSON must be in the following format:\n",
        "{\n",
        "\"ner_labels\": [\n",
        "{\"token\": token_text_1, \"initial_label\": initial_label_1,\"decision\": decision_1,\"final_label\": final_label_1, \"justification\": justification_1},\n",
        "{\"token\": token_text_2, \"initial_label\": initial_label_2,\"decision\": decision_2,\"final_label\": final_label_2, \"justification\": justification_2},\n",
        "...\n",
        "]\n",
        "}\n",
        "Where the list must contain exactly 6 elements (one per token), and each label MUST be from the allowed label set (the labels final result must be EXACTLY from the label set, no further details).\n",
        "Return only the raw JSON text. Do not include Markdown formatting, code fences, backticks, or any extra characters. Only valid JSON should be output.\n",
        "```"
      ]
    },
    {
      "cell_type": "code",
      "execution_count": 162,
      "metadata": {
        "id": "6VyYOAC335a9"
      },
      "outputs": [],
      "source": [
        "def arbiterPrompt(sentence, ner_output, critique_output):\n",
        "\n",
        "    ordered_labels = list(feature_names.keys())\n",
        "    label_names = \"Given the following entity label set:\\n\" + \", \".join(ordered_labels) + \"\\n\\n\"\n",
        "\n",
        "    num_tokens = len(sentence)\n",
        "    tokens_repr = str(sentence)\n",
        "\n",
        "    prompt = (\n",
        "        label_names\n",
        "        + \"You are an impartial arbiter in a peer review process for a named entity recognition (NER) task.\\n\\n\"\n",
        "        + \"You will receive:\\n\"\n",
        "        + \"- The original input sentence\\n\"\n",
        "        + \"- The named entity predictions with detailed explanations (from the Reasoner)\\n\"\n",
        "        + \"- The critique of those predictions and explanations (from the Critic)\\n\\n\"\n",
        "        + \"Your task is to evaluate the Reasoner's explanations in light of the Critic's objections.\\n\"\n",
        "        + \"For each mentioned entity, produce a structured evaluation as a JSON object containing the following fields:\\n\"\n",
        "        + \"- mention\\n\"\n",
        "        + \"- initial_label\\n\"\n",
        "        + \"- decision (accept, reject, or modify)\\n\"\n",
        "        + \"- final_label\\n\"\n",
        "        + \"- justification (concise and logical)\\n\\n\"\n",
        "        + \"Important rules:\\n\"\n",
        "        + \"- Base your decisions only on the explanations and critiques provided.\\n\"\n",
        "        + \"- Do not use your own external knowledge of NER.\\n\"\n",
        "        + \"- Cover all entities mentioned in either the NER output or the critique.\\n\"\n",
        "        + f\"- Use only the valid labels (mentioned above).\\n\\n\"\n",
        "        + f\"Now, process the following inputs.\\n\\n\"\n",
        "        + f\"Input sentence :\\n{tokens_repr}\\n\\n\"\n",
        "        + \"NER output from the Reasoner with explanations:\\n\" + ner_output + \"\\n\\n\"\n",
        "        + \"Output from the Critic:\\n\" + critique_output + \"\\n\\n\"\n",
        "        + \"Begin your structured evaluations now. \\n\\n\"\n",
        "        + \"Then, return a valid JSON object representing the final label for each token in the input sentence.\\n\"\n",
        "        + \"The JSON must be in the following format:\\n\"\n",
        "        + \"{\\n\"\n",
        "        + '\"ner_labels\": [\\n'\n",
        "        + '{\"token\": token_text_1, \"initial_label\": initial_label_1,\"decision\": decision_1,\"final_label\": final_label_1, \"justification\": justification_1},\\n'\n",
        "        + '{\"token\": token_text_2, \"initial_label\": initial_label_2,\"decision\": decision_2,\"final_label\": final_label_2, \"justification\": justification_2},\\n'\n",
        "        +  '...\\n'\n",
        "        + ']\\n'\n",
        "        + '}\\n'\n",
        "        + f\"Where the list must contain exactly {num_tokens} elements (one per token), and each label MUST be from the allowed label set (the labels final result must be EXACTLY from the label set, no further details).\\n\"\n",
        "        + \"Return only the raw JSON text. Do not include Markdown formatting, code fences, backticks, or any extra characters. Only valid JSON should be output.\"\n",
        "    )\n",
        "\n",
        "    return prompt\n"
      ]
    },
    {
      "cell_type": "code",
      "execution_count": 164,
      "metadata": {
        "colab": {
          "base_uri": "https://localhost:8080/"
        },
        "id": "5T9cniHY4Lt3",
        "outputId": "6cb20fd7-7aea-4b81-8d5e-3584bfc2e5e0"
      },
      "outputs": [
        {
          "output_type": "stream",
          "name": "stdout",
          "text": [
            "-----REASONER OUTPUT-----\n",
            "\n",
            "\n",
            "To extract named entities from the input sentence, I will analyze each word and its context to determine the appropriate label. Here's the breakdown:\n",
            "\n",
            "1. **SOCCER**: This word refers to a sport, but in the context of the sentence, it's not a named entity. It's more of a category or a topic, so it doesn't fit into any of the given labels.\n",
            "\n",
            "2. **JAPAN**: This word is a country name, which is a location. Given the label set, **B-LOC** is the most appropriate label because it indicates the beginning of a location entity, and \"Japan\" is a singular location.\n",
            "\n",
            "3. **CHINA**: Similar to \"Japan,\" this word is also a country name and thus a location. Following the same reasoning as for \"Japan,\" the label **B-LOC** is assigned because it marks the beginning of a location entity.\n",
            "\n",
            "The other words in the sentence (\"GET\", \"LUCKY\", \"WIN\", \"IN\", \"SURPRISE\", \"DEFEAT\") do not refer to specific named entities like organizations, people, or locations that would fit the provided labels.\n",
            "\n",
            "Therefore, the extracted named entities with their corresponding labels are:\n",
            "\n",
            "- **JAPAN**: B-LOC (because it's the beginning of a location entity)\n",
            "- **CHINA**: B-LOC (because it's the beginning of a location entity)\n",
            "\n",
            "No other labels (B-ORG, B-MISC, B-PER, I-PER, I-ORG, I-MISC, I-LOC) are applicable to the words in this sentence based on the context provided.\n",
            "\n",
            "\n",
            "\n",
            "\n",
            "-----CRITIC OUTPUT-----\n",
            "\n",
            "\n",
            "The provided NER output and reasoning have some areas that can be improved for better accuracy and coherence. Here are the critiques:\n",
            "\n",
            "1. The explanation for **SOCCER** seems logically coherent as it correctly identifies \"SOCCER\" as not being a named entity in the context of the sentence. However, it might be worth considering whether \"SOCCER\" could be classified under the **B-MISC** label, as it refers to a specific sport or category, which could be argued as a miscellaneous entity. The current reasoning dismisses it without considering this possibility.\n",
            "\n",
            "2. For **JAPAN** and **CHINA**, the reasoning provided is contextually appropriate and linguistically grounded. Both are correctly identified as locations and labeled with **B-LOC**. This part of the explanation is clear and well-justified.\n",
            "\n",
            "3. The reasoning for not assigning labels to the other words (\"GET\", \"LUCKY\", \"WIN\", \"IN\", \"SURPRISE\", \"DEFEAT\") is correct, as these words do not refer to specific named entities that fit the provided labels. However, it might be beneficial to explicitly state why these words cannot be considered as part of any entity, reinforcing the idea that they are too general or do not refer to specific organizations, people, or locations.\n",
            "\n",
            "4. There's no mention of considering the possibility of **I-LOC** labels following **B-LOC** labels, but in this case, it's not applicable since both \"JAPAN\" and \"CHINA\" are singular location entities. Still, acknowledging this in the explanation could strengthen the reasoning by showing awareness of the potential for multi-token location entities.\n",
            "\n",
            "5. The explanation does not address the potential for other types of entities (like organizations or people) being mentioned in the sentence, even though it concludes that none are present. Explicitly stating that the sentence does not contain any references to organizations (which would be labeled as **B-ORG** or **I-ORG**) or people (which would be labeled as **B-PER** or **I-PER**) could enhance the clarity of the reasoning.\n",
            "\n",
            "To improve the reasoning, it would be beneficial to:\n",
            "- Consider alternative labels for entities like \"SOCCER\" to ensure that all possibilities are evaluated.\n",
            "- Explicitly justify why certain words are not part of any named entity.\n",
            "- Acknowledge the potential for other types of entities, even if they are not present in the given sentence.\n",
            "- Reinforce the correctness of the chosen labels by discussing the characteristics of the entities they represent and how these align with the label definitions.\n",
            "\n",
            "\n",
            "\n",
            "\n",
            "-----ARBITER OUTPUT-----\n",
            "{\n",
            "\"ner_labels\": [\n",
            "{\"token\": \"SOCCER\", \"initial_label\": \"None\", \"decision\": \"modify\", \"final_label\": \"B-MISC\", \"justification\": \"Could be considered a miscellaneous entity\"},\n",
            "{\"token\": \"-\", \"initial_label\": \"None\", \"decision\": \"accept\", \"final_label\": \"None\", \"justification\": \"Not a named entity\"},\n",
            "{\"token\": \"JAPAN\", \"initial_label\": \"B-LOC\", \"decision\": \"accept\", \"final_label\": \"B-LOC\", \"justification\": \"Correctly identified as a location\"},\n",
            "{\"token\": \"GET\", \"initial_label\": \"None\", \"decision\": \"accept\", \"final_label\": \"None\", \"justification\": \"Not a named entity\"},\n",
            "{\"token\": \"LUCKY\", \"initial_label\": \"None\", \"decision\": \"accept\", \"final_label\": \"None\", \"justification\": \"Not a named entity\"},\n",
            "{\"token\": \"WIN\", \"initial_label\": \"None\", \"decision\": \"accept\", \"final_label\": \"None\", \"justification\": \"Not a named entity\"},\n",
            "{\"token\": \",\", \"initial_label\": \"None\", \"decision\": \"accept\", \"final_label\": \"None\", \"justification\": \"Not a named entity\"},\n",
            "{\"token\": \"CHINA\", \"initial_label\": \"B-LOC\", \"decision\": \"accept\", \"final_label\": \"B-LOC\", \"justification\": \"Correctly identified as a location\"},\n",
            "{\"token\": \"IN\", \"initial_label\": \"None\", \"decision\": \"accept\", \"final_label\": \"None\", \"justification\": \"Not a named entity\"},\n",
            "{\"token\": \"SURPRISE\", \"initial_label\": \"None\", \"decision\": \"accept\", \"final_label\": \"None\", \"justification\": \"Not a named entity\"},\n",
            "{\"token\": \"DEFEAT\", \"initial_label\": \"None\", \"decision\": \"accept\", \"final_label\": \"None\", \"justification\": \"Not a named entity\"},\n",
            "{\"token\": \".\", \"initial_label\": \"None\", \"decision\": \"accept\", \"final_label\": \"None\", \"justification\": \"Not a named entity\"}\n",
            "]\n",
            "}\n",
            "\n",
            "\n",
            "\n",
            "\n",
            "[1/50] Processing sample 0...\n",
            "[2/50] Processing sample 1...\n",
            "[3/50] Processing sample 2...\n",
            "[4/50] Processing sample 3...\n",
            "[5/50] Processing sample 4...\n",
            "[6/50] Processing sample 5...\n",
            "[7/50] Processing sample 6...\n",
            "[8/50] Processing sample 7...\n",
            "[9/50] Processing sample 8...\n",
            "[10/50] Processing sample 9...\n",
            "[11/50] Processing sample 10...\n",
            "[12/50] Processing sample 11...\n",
            "[13/50] Processing sample 12...\n",
            "[14/50] Processing sample 13...\n",
            "[15/50] Processing sample 14...\n",
            "[16/50] Processing sample 15...\n",
            "[17/50] Processing sample 16...\n",
            "[18/50] Processing sample 17...\n",
            "[19/50] Processing sample 18...\n",
            "[20/50] Processing sample 19...\n",
            "[21/50] Processing sample 20...\n",
            "[22/50] Processing sample 21...\n",
            "[23/50] Processing sample 22...\n",
            "[24/50] Processing sample 23...\n",
            "[25/50] Processing sample 24...\n",
            "[26/50] Processing sample 25...\n",
            "[27/50] Processing sample 26...\n",
            "[28/50] Processing sample 27...\n",
            "[29/50] Processing sample 28...\n",
            "[30/50] Processing sample 29...\n",
            "[31/50] Processing sample 30...\n",
            "[32/50] Processing sample 31...\n",
            "[33/50] Processing sample 32...\n",
            "[34/50] Processing sample 33...\n",
            "[35/50] Processing sample 34...\n",
            "[36/50] Processing sample 35...\n",
            "[37/50] Processing sample 36...\n",
            "[38/50] Processing sample 37...\n",
            "[39/50] Processing sample 38...\n",
            "[40/50] Processing sample 39...\n",
            "[41/50] Processing sample 40...\n",
            "[42/50] Processing sample 41...\n",
            "[43/50] Processing sample 42...\n",
            "[44/50] Processing sample 43...\n",
            "[45/50] Processing sample 44...\n",
            "[46/50] Processing sample 45...\n",
            "[47/50] Processing sample 46...\n",
            "[48/50] Processing sample 47...\n",
            "[49/50] Processing sample 48...\n",
            "[50/50] Processing sample 49...\n"
          ]
        }
      ],
      "source": [
        "pred_labels = []\n",
        "agent_logs = []\n",
        "parsing_errors = []\n",
        "\n",
        "for i, tokens in enumerate(test_dataset[\"tokens\"][:TEST_SIZE]):\n",
        "\n",
        "    # Reasoner\n",
        "    reasoner_prompt = reasonerPrompt(tokens)\n",
        "    reasoner_output = modelRequest(reasoner_prompt,[])\n",
        "\n",
        "    time.sleep(TIME_SLEEP)\n",
        "\n",
        "    # Critic\n",
        "    critic_prompt = criticPrompt(tokens, reasoner_output)\n",
        "    critic_output = modelRequest(critic_prompt,[])\n",
        "\n",
        "    time.sleep(TIME_SLEEP)\n",
        "\n",
        "    # Arbiter\n",
        "    judge_prompt = arbiterPrompt(tokens, reasoner_output, critic_output)\n",
        "    final_judgement = modelRequest(judge_prompt,[])\n",
        "    time.sleep(TIME_SLEEP)\n",
        "\n",
        "    # Print only the first one as an example\n",
        "    if(i==0):\n",
        "      print(\"-----REASONER OUTPUT-----\")\n",
        "      print(\"\\n\")\n",
        "      print(reasoner_output)\n",
        "      print(\"\\n\")\n",
        "      print(\"\\n\")\n",
        "      print(\"-----CRITIC OUTPUT-----\")\n",
        "      print(\"\\n\")\n",
        "      print(critic_output)\n",
        "      print(\"\\n\")\n",
        "      print(\"\\n\")\n",
        "      print(\"-----ARBITER OUTPUT-----\")\n",
        "      print(final_judgement)\n",
        "      print(\"\\n\")\n",
        "      print(\"\\n\")\n",
        "\n",
        "    print(f\"[{i+1}/{TEST_SIZE}] Processing sample {i}...\")\n",
        "\n",
        "    agent_log = {\n",
        "        \"index\": i,\n",
        "        \"tokens\": tokens,\n",
        "        \"reasoner\": {\n",
        "            \"prompt\": reasoner_prompt,\n",
        "            \"response\": reasoner_output\n",
        "        },\n",
        "        \"critic\": {\n",
        "            \"prompt\": critic_prompt,\n",
        "            \"response\": critic_output\n",
        "        },\n",
        "        \"arbiter\": {\n",
        "            \"prompt\": judge_prompt,\n",
        "            \"response\": final_judgement\n",
        "        }\n",
        "    }\n",
        "    agent_logs.append(agent_log)\n",
        "\n",
        "    try:\n",
        "        if not final_judgement.strip():\n",
        "            raise ValueError(\"Empty response from model\")\n",
        "\n",
        "        data = extract_json(final_judgement)\n",
        "        labels = [item[\"final_label\"] for item in data[\"ner_labels\"]]\n",
        "\n",
        "        if len(labels) != len(tokens):\n",
        "            raise ValueError(\"Token-label length mismatch\")\n",
        "\n",
        "        pred_labels.append(labels)\n",
        "\n",
        "    except Exception as e:\n",
        "        error_log = {\n",
        "            \"index\": i,\n",
        "            \"error\": str(e),\n",
        "            \"tokens\": tokens,\n",
        "            \"response\": final_judgement\n",
        "        }\n",
        "        parsing_errors.append(error_log)\n",
        "        pred_labels.append([\"X\"] * len(tokens))\n",
        "\n",
        "\n",
        "with open(\"ner_eval_data_ARBITER.json\", \"w\") as f:\n",
        "    json.dump({\n",
        "        \"predicted_tags\": pred_labels\n",
        "    }, f, indent=2)\n",
        "\n",
        "with open(\"logs_AGENTS.json\", \"w\") as f_log:\n",
        "    json.dump(agent_logs, f_log, indent=2, ensure_ascii=False)\n",
        "\n",
        "with open(\"parsing_errors.json\", \"w\") as f_err:\n",
        "    json.dump(parsing_errors, f_err, indent=2, ensure_ascii=False)\n"
      ]
    },
    {
      "cell_type": "markdown",
      "metadata": {
        "id": "2Ip45ORyaeKB"
      },
      "source": [
        "#Evaluation\n",
        "\n",
        "To perform the evaluation, we consider the 3 main evaluation metrics used for NER task: Precision, Recall and F1-Score, along with the per-token accuracy.<br>\n",
        "From the results, we can notice that Decomposed-QA Method and Tool Augmentation Method really struggle with the miscellanea label, which is indeed the most difficult to assign and to agree with the gold tags, being the most subjective label between the ones taken in exam.\n",
        "<br>\n",
        "The model's response occasionally generates improperly formatted JSON. This case was handled by considering the entire sentence from the malformed JSON. The assigned label is -1."
      ]
    },
    {
      "cell_type": "code",
      "execution_count": 166,
      "metadata": {
        "id": "ioOEjSnZhVUt"
      },
      "outputs": [],
      "source": [
        "# Just in case the model predicts it for some tokens (we removed it previously, check the reason)\n",
        "feature_names.update({\"O\": 0})\n",
        "index_to_label = {v: k for k, v in feature_names.items()}"
      ]
    },
    {
      "cell_type": "markdown",
      "source": [
        "## Vanilla Model Performances"
      ],
      "metadata": {
        "id": "Oic-8GvCmlLw"
      }
    },
    {
      "cell_type": "code",
      "execution_count": 176,
      "metadata": {
        "colab": {
          "base_uri": "https://localhost:8080/",
          "height": 927
        },
        "id": "iaHXA1nNadVr",
        "outputId": "949be03d-a55e-44a3-c7db-e200da366005"
      },
      "outputs": [
        {
          "output_type": "stream",
          "name": "stdout",
          "text": [
            "Vanilla Model performance:\n",
            "\n",
            "Token-Level Accuracy: 0.943\n",
            "\n",
            "Classification Report (token-level):\n",
            "\n",
            "              precision    recall  f1-score   support\n",
            "\n",
            "          -1      0.000     0.000     0.000         0\n",
            "           0      0.995     0.947     0.971       853\n",
            "           1      0.333     0.500     0.400         2\n",
            "           2      0.481     0.722     0.578        18\n",
            "           3      1.000     0.952     0.975        83\n",
            "           4      1.000     0.971     0.986        70\n",
            "           5      0.953     0.953     0.953        43\n",
            "           6      0.000     0.000     0.000         1\n",
            "           7      0.583     0.778     0.667         9\n",
            "           8      0.833     1.000     0.909         5\n",
            "\n",
            "    accuracy                          0.943      1084\n",
            "   macro avg      0.618     0.682     0.644      1084\n",
            "weighted avg      0.979     0.943     0.960      1084\n",
            "\n"
          ]
        },
        {
          "output_type": "display_data",
          "data": {
            "text/plain": [
              "<Figure size 700x500 with 2 Axes>"
            ],
            "image/png": "[encoded data removed]"
          },
          "metadata": {}
        }
      ],
      "source": [
        "print(\"Vanilla Model performance:\\n\")\n",
        "predicted_tags_V = predicted_tags_for_evaluation(\"Vanilla.json\")\n",
        "evaluate_ner(predicted_tags_V)"
      ]
    },
    {
      "cell_type": "markdown",
      "source": [
        "## Basic Decomposed QA Model performance"
      ],
      "metadata": {
        "id": "rUY8oWaEm5ie"
      }
    },
    {
      "cell_type": "code",
      "source": [
        "print(\"Basic Decomposed QA Model performance:\\n\")\n",
        "predicted_tags_BDQA = predicted_tags_for_evaluation(\"Decomposed_QA.json\")\n",
        "evaluate_ner(predicted_tags_BDQA)"
      ],
      "metadata": {
        "colab": {
          "base_uri": "https://localhost:8080/",
          "height": 909
        },
        "id": "6AmTr3FQlaDB",
        "outputId": "a0099578-1c63-44fd-887a-e970df228fd1"
      },
      "execution_count": 177,
      "outputs": [
        {
          "output_type": "stream",
          "name": "stdout",
          "text": [
            "Basic Decomposed QA Model performance:\n",
            "\n",
            "Token-Level Accuracy: 0.936\n",
            "\n",
            "Classification Report (token-level):\n",
            "\n",
            "              precision    recall  f1-score   support\n",
            "\n",
            "           0      0.993     0.945     0.968       853\n",
            "           1      0.182     1.000     0.308         2\n",
            "           2      0.235     0.444     0.308        18\n",
            "           3      0.964     0.976     0.970        83\n",
            "           4      0.909     1.000     0.952        70\n",
            "           5      0.884     0.884     0.884        43\n",
            "           6      0.333     1.000     0.500         1\n",
            "           7      0.357     0.556     0.435         9\n",
            "           8      0.667     0.800     0.727         5\n",
            "\n",
            "    accuracy                          0.936      1084\n",
            "   macro avg      0.614     0.845     0.672      1084\n",
            "weighted avg      0.959     0.936     0.946      1084\n",
            "\n"
          ]
        },
        {
          "output_type": "display_data",
          "data": {
            "text/plain": [
              "<Figure size 700x500 with 2 Axes>"
            ],
            "image/png": "[encoded data removed]"
          },
          "metadata": {}
        }
      ]
    },
    {
      "cell_type": "markdown",
      "source": [
        "## Tool Augmentation Model performances"
      ],
      "metadata": {
        "id": "gvpFnw_tnA_X"
      }
    },
    {
      "cell_type": "code",
      "source": [
        "print(\"Tool Augmentation Model performance:\\n\")\n",
        "predicted_tags_TA = predicted_tags_for_evaluation(\"Tool_Augmentation.json\")\n",
        "evaluate_ner(predicted_tags_TA)"
      ],
      "metadata": {
        "colab": {
          "base_uri": "https://localhost:8080/",
          "height": 927
        },
        "id": "lpzOowSPlc26",
        "outputId": "490e84c7-007c-47d3-f8af-46b27a48aa4c"
      },
      "execution_count": 178,
      "outputs": [
        {
          "output_type": "stream",
          "name": "stdout",
          "text": [
            "Tool Augmentation Model performance:\n",
            "\n",
            "Token-Level Accuracy: 0.733\n",
            "\n",
            "Classification Report (token-level):\n",
            "\n",
            "              precision    recall  f1-score   support\n",
            "\n",
            "          -1      0.000     0.000     0.000         0\n",
            "           0      0.807     0.897     0.850       853\n",
            "           1      0.000     0.000     0.000         2\n",
            "           2      0.267     0.222     0.242        18\n",
            "           3      0.875     0.084     0.154        83\n",
            "           4      0.667     0.057     0.105        70\n",
            "           5      0.786     0.256     0.386        43\n",
            "           6      0.000     0.000     0.000         1\n",
            "           7      0.667     0.222     0.333         9\n",
            "           8      0.333     0.400     0.364         5\n",
            "\n",
            "    accuracy                          0.733      1084\n",
            "   macro avg      0.440     0.214     0.243      1084\n",
            "weighted avg      0.788     0.733     0.711      1084\n",
            "\n"
          ]
        },
        {
          "output_type": "display_data",
          "data": {
            "text/plain": [
              "<Figure size 700x500 with 2 Axes>"
            ],
            "image/png": "[encoded data removed]"
          },
          "metadata": {}
        }
      ]
    },
    {
      "cell_type": "markdown",
      "metadata": {
        "id": "-xUmlxbW7dlN"
      },
      "source": [
        "#Multi-Agent Prompting Evalutation"
      ]
    },
    {
      "cell_type": "code",
      "execution_count": 179,
      "metadata": {
        "colab": {
          "base_uri": "https://localhost:8080/",
          "height": 891
        },
        "id": "dbxDPDCt4PGf",
        "outputId": "ad6af54f-f4ee-4772-8180-8792d0913ff3"
      },
      "outputs": [
        {
          "output_type": "stream",
          "name": "stdout",
          "text": [
            "Token-Level Accuracy: 0.708\n",
            "\n",
            "Classification Report (token-level):\n",
            "\n",
            "              precision    recall  f1-score   support\n",
            "\n",
            "          -1      0.000     0.000     0.000         0\n",
            "           0      1.000     0.764     0.866       853\n",
            "           1      0.667     1.000     0.800         2\n",
            "           2      0.588     0.556     0.571        18\n",
            "           3      1.000     0.373     0.544        83\n",
            "           4      1.000     0.257     0.409        70\n",
            "           5      0.854     0.953     0.901        43\n",
            "           6      0.500     1.000     0.667         1\n",
            "           7      0.636     0.778     0.700         9\n",
            "           8      0.833     1.000     0.909         5\n",
            "\n",
            "    accuracy                          0.708      1084\n",
            "   macro avg      0.708     0.668     0.637      1084\n",
            "weighted avg      0.983     0.708     0.807      1084\n",
            "\n"
          ]
        },
        {
          "output_type": "display_data",
          "data": {
            "text/plain": [
              "<Figure size 700x500 with 2 Axes>"
            ],
            "image/png": "[encoded data removed]"
          },
          "metadata": {}
        }
      ],
      "source": [
        "with open('ner_eval_data_ARBITER.json') as f:\n",
        "    eval_data = json.load(f)\n",
        "\n",
        "pred_list = []\n",
        "\n",
        "for sample in eval_data['predicted_tags']:\n",
        "    numeric_sample = []\n",
        "    for label in sample:\n",
        "        if label in feature_names:\n",
        "            numeric_sample.append(feature_names[str(label)])\n",
        "        else:\n",
        "            if \"none\" in str(label).lower() or label==0 or \"0\" in str(label) or str(label).lower()==\"o\" or str(label) == \"\" or label==None:\n",
        "              numeric_sample.append(0)\n",
        "            else:\n",
        "              numeric_sample.append(-1) # Means parsed wrong or with size different from the original token list\n",
        "    pred_list.append(numeric_sample)\n",
        "\n",
        "evaluate_ner(pred_list)"
      ]
    },
    {
      "cell_type": "markdown",
      "source": [
        "#Conclusions and final discussion\n",
        "\n",
        "###Methods from the paper\n",
        "\n",
        "The methods derived from the paper of interest demonstrated quite promising performance. In particular, we observed that the BIO tags associated with the \"Miscellaneous\" label were more challenging to predict accurately. The model often tagged words as \"Miscellaneous\" when they were not, and conversely failed to tag words as \"Miscellaneous\" when it would have been correct.\n",
        "\n",
        "We concluded that these errors stemmed from the nature of the \"Miscellaneous\" class, which appears to require contextual understanding related to the topic of the miscellanea. For example, in the dataset used, the labels B-MISC or I-MISC were applied to words like \"British,\" \"German,\" and \"Greek,\" but not consistently. This inconsistency made it difficult to provide the model with clear directives for identifying such instances.\n",
        "\n",
        "Nonetheless, the performance for the other labels was sufficiently good—particularly with the Vanilla Method. We believe it outperformed the others because its prompting is simpler and less prone to parsing errors. In contrast, the other methods exhibited some issues due to incorrect parsing of the JSON files during execution.\n",
        "\n",
        "As mentioned earlier, overall performance depends on the selected dataset and could potentially improve if the elements categorized as \"Miscellaneous\" were more clearly defined.<br>\n",
        "\n",
        "For what concerns the prompting, we noticed that a good prompting technique was essential for the model to answer properly.\n",
        "\n",
        "In fact, imposing too many constraints often led to outputs that were well-organized but overly limited or incorrect, with the model sometimes omitting key information. This was likely due to the excessive number of constraints placed on the output format.\n",
        "\n",
        "\n",
        "<br><br>\n",
        "###Multi-Agent Prompting\n",
        "\n",
        "It was very interesting to observe the results and behavior of the method we proposed, but we are fully aware of its limitations. One major issue is the high computational complexity introduced by the architecture: performing three separate API calls per sentence significantly increases inference time and resource usage. In addition, the length of the responses grows considerably. Unlike standard approaches that only return entity predictions, our method requires detailed analysis and explanation for each decision, which increases both output size and processing difficulty.\n",
        "\n",
        "One of the most critical problems we encountered was related to parsing the model’s output in JSON format. Especially when using smaller language models than the final one adopted, syntax errors in the JSON structure were frequent, such as missing commas, unclosed brackets, or malformed objects. These errors were handled conservatively: if the JSON was invalid, we marked all the tokens in that sentence as incorrect. This strict strategy negatively impacted overall NER performance and contributes to the gap with more robust baselines.\n",
        "\n"
      ],
      "metadata": {
        "id": "LcZ6XAkU3Xu5"
      }
    }
  ],
  "metadata": {
    "colab": {
      "provenance": []
    },
    "kernelspec": {
      "display_name": "Python 3",
      "name": "python3"
    },
    "language_info": {
      "name": "python"
    }
  },
  "nbformat": 4,
  "nbformat_minor": 0
}